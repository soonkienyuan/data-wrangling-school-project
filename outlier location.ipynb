{
 "cells": [
  {
   "cell_type": "code",
   "execution_count": 22,
   "id": "d956764a",
   "metadata": {},
   "outputs": [],
   "source": [
    "import pandas as pd\n",
    "import seaborn as sns\n",
    "import matplotlib.pyplot as plt\n",
    "from scipy import stats\n",
    "import numpy as np\n",
    "import pprint\n",
    "%matplotlib inline"
   ]
  },
  {
   "cell_type": "code",
   "execution_count": 23,
   "id": "746edfdd",
   "metadata": {},
   "outputs": [
    {
     "data": {
      "text/html": [
       "<div>\n",
       "<style scoped>\n",
       "    .dataframe tbody tr th:only-of-type {\n",
       "        vertical-align: middle;\n",
       "    }\n",
       "\n",
       "    .dataframe tbody tr th {\n",
       "        vertical-align: top;\n",
       "    }\n",
       "\n",
       "    .dataframe thead th {\n",
       "        text-align: right;\n",
       "    }\n",
       "</style>\n",
       "<table border=\"1\" class=\"dataframe\">\n",
       "  <thead>\n",
       "    <tr style=\"text-align: right;\">\n",
       "      <th></th>\n",
       "      <th>Crash ID</th>\n",
       "      <th>$1000 Damage to Any One Person's Property</th>\n",
       "      <th>Active School Zone Flag</th>\n",
       "      <th>Agency</th>\n",
       "      <th>At Intersection Flag</th>\n",
       "      <th>Construction Zone Flag</th>\n",
       "      <th>Construction Zone Workers Present Flag</th>\n",
       "      <th>Crash Death Count</th>\n",
       "      <th>Crash Incapacitating Injury Count</th>\n",
       "      <th>Crash Non-incapacitating Injury Count</th>\n",
       "      <th>...</th>\n",
       "      <th>Roadway Alignment</th>\n",
       "      <th>Roadway Part</th>\n",
       "      <th>Roadway Relation</th>\n",
       "      <th>Speed Limit</th>\n",
       "      <th>Street Name</th>\n",
       "      <th>Street Number</th>\n",
       "      <th>Surface Condition</th>\n",
       "      <th>Traffic Control Type</th>\n",
       "      <th>Weather Condition</th>\n",
       "      <th>Person Helmet</th>\n",
       "    </tr>\n",
       "  </thead>\n",
       "  <tbody>\n",
       "    <tr>\n",
       "      <th>0</th>\n",
       "      <td>11243623</td>\n",
       "      <td>False</td>\n",
       "      <td>False</td>\n",
       "      <td>Austin Police Department</td>\n",
       "      <td>False</td>\n",
       "      <td>False</td>\n",
       "      <td>No</td>\n",
       "      <td>0</td>\n",
       "      <td>1</td>\n",
       "      <td>0</td>\n",
       "      <td>...</td>\n",
       "      <td>Straight, Hillcrest</td>\n",
       "      <td>Main/Proper Lane</td>\n",
       "      <td>On Roadway</td>\n",
       "      <td>45</td>\n",
       "      <td>FM0969</td>\n",
       "      <td>4716</td>\n",
       "      <td>Dry</td>\n",
       "      <td>Marked Lanes</td>\n",
       "      <td>Clear</td>\n",
       "      <td>Worn, Damaged</td>\n",
       "    </tr>\n",
       "    <tr>\n",
       "      <th>1</th>\n",
       "      <td>12112069</td>\n",
       "      <td>False</td>\n",
       "      <td>False</td>\n",
       "      <td>Austin Police Department</td>\n",
       "      <td>False</td>\n",
       "      <td>False</td>\n",
       "      <td>No</td>\n",
       "      <td>0</td>\n",
       "      <td>0</td>\n",
       "      <td>2</td>\n",
       "      <td>...</td>\n",
       "      <td>Straight, Level</td>\n",
       "      <td>Main/Proper Lane</td>\n",
       "      <td>On Roadway</td>\n",
       "      <td>35</td>\n",
       "      <td>E RIVERSIDE DR</td>\n",
       "      <td>200</td>\n",
       "      <td>Dry</td>\n",
       "      <td>Center Stripe/Divider</td>\n",
       "      <td>Clear</td>\n",
       "      <td>Not Worn</td>\n",
       "    </tr>\n",
       "    <tr>\n",
       "      <th>2</th>\n",
       "      <td>12112069</td>\n",
       "      <td>False</td>\n",
       "      <td>False</td>\n",
       "      <td>Austin Police Department</td>\n",
       "      <td>False</td>\n",
       "      <td>False</td>\n",
       "      <td>No</td>\n",
       "      <td>0</td>\n",
       "      <td>0</td>\n",
       "      <td>2</td>\n",
       "      <td>...</td>\n",
       "      <td>Straight, Level</td>\n",
       "      <td>Main/Proper Lane</td>\n",
       "      <td>On Roadway</td>\n",
       "      <td>35</td>\n",
       "      <td>E RIVERSIDE DR</td>\n",
       "      <td>200</td>\n",
       "      <td>Dry</td>\n",
       "      <td>Center Stripe/Divider</td>\n",
       "      <td>Clear</td>\n",
       "      <td>Not Worn</td>\n",
       "    </tr>\n",
       "    <tr>\n",
       "      <th>3</th>\n",
       "      <td>12112069</td>\n",
       "      <td>False</td>\n",
       "      <td>False</td>\n",
       "      <td>Austin Police Department</td>\n",
       "      <td>False</td>\n",
       "      <td>False</td>\n",
       "      <td>No</td>\n",
       "      <td>0</td>\n",
       "      <td>0</td>\n",
       "      <td>2</td>\n",
       "      <td>...</td>\n",
       "      <td>Straight, Level</td>\n",
       "      <td>Main/Proper Lane</td>\n",
       "      <td>On Roadway</td>\n",
       "      <td>35</td>\n",
       "      <td>E RIVERSIDE DR</td>\n",
       "      <td>200</td>\n",
       "      <td>Dry</td>\n",
       "      <td>Center Stripe/Divider</td>\n",
       "      <td>Clear</td>\n",
       "      <td>Not Worn</td>\n",
       "    </tr>\n",
       "    <tr>\n",
       "      <th>4</th>\n",
       "      <td>11376123</td>\n",
       "      <td>False</td>\n",
       "      <td>False</td>\n",
       "      <td>Austin Police Department</td>\n",
       "      <td>False</td>\n",
       "      <td>False</td>\n",
       "      <td>No</td>\n",
       "      <td>0</td>\n",
       "      <td>0</td>\n",
       "      <td>1</td>\n",
       "      <td>...</td>\n",
       "      <td>Straight, Level</td>\n",
       "      <td>Main/Proper Lane</td>\n",
       "      <td>On Roadway</td>\n",
       "      <td>45</td>\n",
       "      <td>SL0111</td>\n",
       "      <td>1487</td>\n",
       "      <td>Dry</td>\n",
       "      <td>None</td>\n",
       "      <td>Clear</td>\n",
       "      <td>Not Worn</td>\n",
       "    </tr>\n",
       "  </tbody>\n",
       "</table>\n",
       "<p>5 rows × 39 columns</p>\n",
       "</div>"
      ],
      "text/plain": [
       "   Crash ID  $1000 Damage to Any One Person's Property  \\\n",
       "0  11243623                                      False   \n",
       "1  12112069                                      False   \n",
       "2  12112069                                      False   \n",
       "3  12112069                                      False   \n",
       "4  11376123                                      False   \n",
       "\n",
       "   Active School Zone Flag                    Agency  At Intersection Flag  \\\n",
       "0                    False  Austin Police Department                 False   \n",
       "1                    False  Austin Police Department                 False   \n",
       "2                    False  Austin Police Department                 False   \n",
       "3                    False  Austin Police Department                 False   \n",
       "4                    False  Austin Police Department                 False   \n",
       "\n",
       "   Construction Zone Flag Construction Zone Workers Present Flag  \\\n",
       "0                   False                                     No   \n",
       "1                   False                                     No   \n",
       "2                   False                                     No   \n",
       "3                   False                                     No   \n",
       "4                   False                                     No   \n",
       "\n",
       "   Crash Death Count  Crash Incapacitating Injury Count  \\\n",
       "0                  0                                  1   \n",
       "1                  0                                  0   \n",
       "2                  0                                  0   \n",
       "3                  0                                  0   \n",
       "4                  0                                  0   \n",
       "\n",
       "   Crash Non-incapacitating Injury Count  ...    Roadway Alignment  \\\n",
       "0                                      0  ...  Straight, Hillcrest   \n",
       "1                                      2  ...      Straight, Level   \n",
       "2                                      2  ...      Straight, Level   \n",
       "3                                      2  ...      Straight, Level   \n",
       "4                                      1  ...      Straight, Level   \n",
       "\n",
       "       Roadway Part Roadway Relation  Speed Limit     Street Name  \\\n",
       "0  Main/Proper Lane       On Roadway           45          FM0969   \n",
       "1  Main/Proper Lane       On Roadway           35  E RIVERSIDE DR   \n",
       "2  Main/Proper Lane       On Roadway           35  E RIVERSIDE DR   \n",
       "3  Main/Proper Lane       On Roadway           35  E RIVERSIDE DR   \n",
       "4  Main/Proper Lane       On Roadway           45          SL0111   \n",
       "\n",
       "   Street Number  Surface Condition   Traffic Control Type Weather Condition  \\\n",
       "0           4716                Dry           Marked Lanes             Clear   \n",
       "1            200                Dry  Center Stripe/Divider             Clear   \n",
       "2            200                Dry  Center Stripe/Divider             Clear   \n",
       "3            200                Dry  Center Stripe/Divider             Clear   \n",
       "4           1487                Dry                   None             Clear   \n",
       "\n",
       "   Person Helmet  \n",
       "0  Worn, Damaged  \n",
       "1       Not Worn  \n",
       "2       Not Worn  \n",
       "3       Not Worn  \n",
       "4       Not Worn  \n",
       "\n",
       "[5 rows x 39 columns]"
      ]
     },
     "execution_count": 23,
     "metadata": {},
     "output_type": "execute_result"
    }
   ],
   "source": [
    "url = \"https://raw.githubusercontent.com/taimoon/data-wrangling-school-project/main/Austin%20Bicycle%20Crashes%202010-2017%20revised%20subset.csv\"\n",
    "df=pd.read_csv(url)\n",
    "df.head()"
   ]
  },
  {
   "cell_type": "code",
   "execution_count": 24,
   "id": "40de0c13",
   "metadata": {
    "scrolled": false
   },
   "outputs": [
    {
     "name": "stdout",
     "output_type": "stream",
     "text": [
      "8\n"
     ]
    }
   ],
   "source": [
    "#create a list  for column indexing\n",
    "outlier_col=[\"Crash Death Count\",\"Crash Incapacitating Injury Count\",\"Crash Non-incapacitating Injury Count\",\n",
    "             \"Crash Not Injured Count\",\"Crash Possible Injury Count\",\"Crash Total Injury Count\",\n",
    "             \"Crash Unknown Injury Count\",\"Speed Limit\" ]\n",
    "print(len(outlier_col))"
   ]
  },
  {
   "cell_type": "code",
   "execution_count": 25,
   "id": "ef37ee83",
   "metadata": {},
   "outputs": [
    {
     "name": "stdout",
     "output_type": "stream",
     "text": [
      "{'Crash Death Count': (array([ 103,  110,  331,  400,  599,  803,  844, 1032, 1279, 1411, 1649,\n",
      "       1678, 1733, 1752, 1891], dtype=int64),),\n",
      " 'Crash Incapacitating Injury Count': (array([560, 561, 562, 563, 564, 565, 566, 567, 568, 569, 570, 571, 572,\n",
      "       573, 574, 575], dtype=int64),),\n",
      " 'Crash Non-incapacitating Injury Count': (array([ 136,  137,  138,  711,  712,  713,  714,  884,  885,  886,  887,\n",
      "       1583, 1584, 1585], dtype=int64),),\n",
      " 'Crash Not Injured Count': (array([ 160,  403,  418,  419,  420,  421,  469,  642,  652,  663,  673,\n",
      "        686,  729,  827,  828,  829, 1056, 1187, 1195, 1214, 1215, 1226,\n",
      "       1231, 1580, 1581, 1582, 1611, 1629, 1741, 1895], dtype=int64),),\n",
      " 'Crash Possible Injury Count': (array([ 222,  223,  224,  283,  393,  514,  663,  937, 1094, 1104, 1114,\n",
      "       1115, 1227, 1275, 1310, 1311, 1354, 1355, 1580, 1581, 1582, 1686,\n",
      "       1687, 1688, 1710, 1822], dtype=int64),),\n",
      " 'Crash Total Injury Count': (array([560, 561, 562, 563, 564, 565, 566, 567, 568, 569, 570, 571, 572,\n",
      "       573, 574, 575], dtype=int64),),\n",
      " 'Crash Unknown Injury Count': (array([ 179,  187,  189,  459,  725,  751,  775,  814,  951,  960,  973,\n",
      "        976, 1018, 1170, 1177, 1273, 1472, 1555, 1650, 1834], dtype=int64),),\n",
      " 'Speed Limit': (array([], dtype=int64),)}\n"
     ]
    }
   ],
   "source": [
    "#create a dict to store location of outlier\n",
    "out_dict = {}\n",
    "new_key=0\n",
    "for b in outlier_col:\n",
    "    z = np.abs(stats.zscore(df[b]))\n",
    "    out_index= np.where(z>3)\n",
    "    \n",
    "    # add into dictionary\n",
    "    new_key+=1\n",
    "    out_dict[b] = out_index\n",
    "\n",
    "\n",
    "pprint.pprint(out_dict)"
   ]
  },
  {
   "cell_type": "code",
   "execution_count": 26,
   "id": "17dc53ca",
   "metadata": {
    "scrolled": true
   },
   "outputs": [
    {
     "name": "stdout",
     "output_type": "stream",
     "text": [
      "Outlier value for Crash Death Count\n",
      "103     1\n",
      "110     1\n",
      "331     1\n",
      "400     1\n",
      "599     1\n",
      "803     1\n",
      "844     1\n",
      "1032    1\n",
      "1279    1\n",
      "1411    1\n",
      "1649    1\n",
      "1678    1\n",
      "1733    1\n",
      "1752    1\n",
      "1891    1\n",
      "Name: Crash Death Count, dtype: int64\n",
      " \n",
      "-------------------------------------------------------------- \n",
      "Outlier value for Crash Incapacitating Injury Count\n",
      "560    14\n",
      "561    14\n",
      "562    14\n",
      "563    14\n",
      "564    14\n",
      "565    14\n",
      "566    14\n",
      "567    14\n",
      "568    14\n",
      "569    14\n",
      "570    14\n",
      "571    14\n",
      "572    14\n",
      "573    14\n",
      "574    14\n",
      "575    14\n",
      "Name: Crash Incapacitating Injury Count, dtype: int64\n",
      " \n",
      "-------------------------------------------------------------- \n",
      "Outlier value for Crash Non-incapacitating Injury Count\n",
      "136     3\n",
      "137     3\n",
      "138     3\n",
      "711     4\n",
      "712     4\n",
      "713     4\n",
      "714     4\n",
      "884     3\n",
      "885     3\n",
      "886     3\n",
      "887     3\n",
      "1583    3\n",
      "1584    3\n",
      "1585    3\n",
      "Name: Crash Non-incapacitating Injury Count, dtype: int64\n",
      " \n",
      "-------------------------------------------------------------- \n",
      "Outlier value for Crash Not Injured Count\n",
      "160     5\n",
      "403     5\n",
      "418     7\n",
      "419     7\n",
      "420     7\n",
      "421     7\n",
      "469     5\n",
      "642     6\n",
      "652     6\n",
      "663     7\n",
      "673     5\n",
      "686     6\n",
      "729     5\n",
      "827     5\n",
      "828     5\n",
      "829     5\n",
      "1056    5\n",
      "1187    6\n",
      "1195    5\n",
      "1214    5\n",
      "1215    5\n",
      "1226    5\n",
      "1231    5\n",
      "1580    5\n",
      "1581    5\n",
      "1582    5\n",
      "1611    5\n",
      "1629    5\n",
      "1741    9\n",
      "1895    5\n",
      "Name: Crash Not Injured Count, dtype: int64\n",
      " \n",
      "-------------------------------------------------------------- \n",
      "Outlier value for Crash Possible Injury Count\n",
      "222     2\n",
      "223     2\n",
      "224     2\n",
      "283     3\n",
      "393     2\n",
      "514     2\n",
      "663     2\n",
      "937     3\n",
      "1094    2\n",
      "1104    2\n",
      "1114    2\n",
      "1115    2\n",
      "1227    3\n",
      "1275    2\n",
      "1310    2\n",
      "1311    2\n",
      "1354    2\n",
      "1355    2\n",
      "1580    2\n",
      "1581    2\n",
      "1582    2\n",
      "1686    3\n",
      "1687    3\n",
      "1688    3\n",
      "1710    2\n",
      "1822    3\n",
      "Name: Crash Possible Injury Count, dtype: int64\n",
      " \n",
      "-------------------------------------------------------------- \n",
      "Outlier value for Crash Total Injury Count\n",
      "560    15\n",
      "561    15\n",
      "562    15\n",
      "563    15\n",
      "564    15\n",
      "565    15\n",
      "566    15\n",
      "567    15\n",
      "568    15\n",
      "569    15\n",
      "570    15\n",
      "571    15\n",
      "572    15\n",
      "573    15\n",
      "574    15\n",
      "575    15\n",
      "Name: Crash Total Injury Count, dtype: int64\n",
      " \n",
      "-------------------------------------------------------------- \n",
      "Outlier value for Crash Unknown Injury Count\n",
      "179     3\n",
      "187     2\n",
      "189     2\n",
      "459     4\n",
      "725     2\n",
      "751     3\n",
      "775     3\n",
      "814     2\n",
      "951     2\n",
      "960     2\n",
      "973     3\n",
      "976     2\n",
      "1018    4\n",
      "1170    2\n",
      "1177    3\n",
      "1273    2\n",
      "1472    2\n",
      "1555    2\n",
      "1650    2\n",
      "1834    2\n",
      "Name: Crash Unknown Injury Count, dtype: int64\n",
      " \n",
      "-------------------------------------------------------------- \n",
      "Outlier value for Speed Limit\n",
      "Series([], Name: Speed Limit, dtype: int64)\n",
      " \n",
      "-------------------------------------------------------------- \n"
     ]
    }
   ],
   "source": [
    "#to extract outlier value\n",
    "\n",
    "for b in outlier_col:\n",
    "    print(\"Outlier value for \" + b)\n",
    "    print(df[b].iloc[out_dict[b]])\n",
    "    print(\" \")\n",
    "    print(\"-------------------------------------------------------------- \")"
   ]
  },
  {
   "cell_type": "code",
   "execution_count": 27,
   "id": "bf899017",
   "metadata": {},
   "outputs": [],
   "source": [
    "#In the latest version of Pandas there is an easy way to do exactly this. \n",
    "#Column names (which are strings) can be sliced in whatever manner you like\n",
    "df_measures= pd.DataFrame(df, columns=outlier_col)"
   ]
  },
  {
   "cell_type": "code",
   "execution_count": 28,
   "id": "d78b0eec",
   "metadata": {},
   "outputs": [
    {
     "data": {
      "image/png": "[encoded data removed]",
      "text/plain": [
       "<Figure size 432x288 with 1 Axes>"
      ]
     },
     "metadata": {
      "needs_background": "light"
     },
     "output_type": "display_data"
    },
    {
     "data": {
      "image/png": "[encoded data removed]",
      "text/plain": [
       "<Figure size 432x288 with 1 Axes>"
      ]
     },
     "metadata": {
      "needs_background": "light"
     },
     "output_type": "display_data"
    },
    {
     "data": {
      "image/png": "[encoded data removed]",
      "text/plain": [
       "<Figure size 432x288 with 1 Axes>"
      ]
     },
     "metadata": {
      "needs_background": "light"
     },
     "output_type": "display_data"
    },
    {
     "data": {
      "image/png": "[encoded data removed]",
      "text/plain": [
       "<Figure size 432x288 with 1 Axes>"
      ]
     },
     "metadata": {
      "needs_background": "light"
     },
     "output_type": "display_data"
    },
    {
     "data": {
      "image/png": "[encoded data removed]",
      "text/plain": [
       "<Figure size 432x288 with 1 Axes>"
      ]
     },
     "metadata": {
      "needs_background": "light"
     },
     "output_type": "display_data"
    },
    {
     "data": {
      "image/png": "[encoded data removed]",
      "text/plain": [
       "<Figure size 432x288 with 1 Axes>"
      ]
     },
     "metadata": {
      "needs_background": "light"
     },
     "output_type": "display_data"
    },
    {
     "data": {
      "image/png": "[encoded data removed]",
      "text/plain": [
       "<Figure size 432x288 with 1 Axes>"
      ]
     },
     "metadata": {
      "needs_background": "light"
     },
     "output_type": "display_data"
    },
    {
     "data": {
      "image/png": "[encoded data removed]",
      "text/plain": [
       "<Figure size 432x288 with 1 Axes>"
      ]
     },
     "metadata": {
      "needs_background": "light"
     },
     "output_type": "display_data"
    },
    {
     "data": {
      "text/plain": [
       "<Figure size 432x288 with 0 Axes>"
      ]
     },
     "metadata": {},
     "output_type": "display_data"
    }
   ],
   "source": [
    "#Box Plot\n",
    "for col in outlier_col:\n",
    "    sns.boxplot( y=df[col] )\n",
    "    plt.figure()   # plots figure for each iteration"
   ]
  }
 ],
 "metadata": {
  "interpreter": {
   "hash": "2324a66782fee6ab9f0bdb3c9e79ee636ed86487484f245c4444858429ce7730"
  },
  "kernelspec": {
   "display_name": "Python 3.10.2 64-bit",
   "language": "python",
   "name": "python3"
  },
  "language_info": {
   "codemirror_mode": {
    "name": "ipython",
    "version": 3
   },
   "file_extension": ".py",
   "mimetype": "text/x-python",
   "name": "python",
   "nbconvert_exporter": "python",
   "pygments_lexer": "ipython3",
   "version": "3.10.2"
  }
 },
 "nbformat": 4,
 "nbformat_minor": 5
}
