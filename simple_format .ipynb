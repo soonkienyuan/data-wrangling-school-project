{
 "cells": [
  {
   "cell_type": "markdown",
   "id": "3a29c126",
   "metadata": {},
   "source": [
    "\n",
    "# Austin Bicycle Crashes 2010-2017\n",
    "\n",
    "## Synopsis \n",
    "\n",
    "Description of the assignment, problem to be solved, question to be answered, objectives, basic description of the data\n",
    "\n",
    "## Packages required \n",
    "\n",
    "List and explain ALL the Python packages/syntax used in completing your task\n",
    "\n",
    "## Data Preparation \n",
    "\n",
    "Show and explain all steps involved in your assignment – Data Import, Data Cleaning, Data Preview, Data Description. Must have flow chart.\n",
    "\n",
    "## Exploratory Data Analysis \n",
    "\n",
    "Produce and explain all graphs, diagram, or any visualization materials that you produce in your assignment\n",
    "\n",
    "## Summary \n",
    "\n",
    "Summary for EACH of the integer attributes you select and overall summary\n",
    "\n",
    "## Reference"
   ]
  }
 ],
 "metadata": {
  "kernelspec": {
   "display_name": "Python 3 (ipykernel)",
   "language": "python",
   "name": "python3"
  },
  "language_info": {
   "codemirror_mode": {
    "name": "ipython",
    "version": 3
   },
   "file_extension": ".py",
   "mimetype": "text/x-python",
   "name": "python",
   "nbconvert_exporter": "python",
   "pygments_lexer": "ipython3",
   "version": "3.9.7"
  }
 },
 "nbformat": 4,
 "nbformat_minor": 5
}
