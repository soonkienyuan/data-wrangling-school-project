{
 "cells": [
  {
   "cell_type": "code",
   "execution_count": 25,
   "metadata": {},
   "outputs": [
    {
     "data": {
      "text/plain": [
       "{'Crash Death Count': 'Death Count',\n",
       " 'Crash Incapacitating Injury Count': 'Incapacitating Injury Count',\n",
       " 'Crash Non-incapacitating Injury Count': 'Non-incapacitating Injury Count',\n",
       " 'Crash Not Injured Count': 'Not Injured Count',\n",
       " 'Crash Possible Injury Count': 'Possible Injury Count',\n",
       " 'Crash Time': 'Time',\n",
       " 'Crash Year': 'Year',\n",
       " 'Crash Total Injury Count': 'Total Injury Count',\n",
       " 'Crash Unknown Injury Count': 'Unknown Injury Count'}"
      ]
     },
     "execution_count": 25,
     "metadata": {},
     "output_type": "execute_result"
    }
   ],
   "source": [
    "renaming = ['Crash Death Count', \n",
    "\t'Crash Incapacitating Injury Count', \n",
    "\t'Crash Non-incapacitating Injury Count', \n",
    "\t'Crash Not Injured Count', \n",
    "\t'Crash Possible Injury Count',\n",
    "\t'Crash Time',\n",
    "\t'Crash Year', \n",
    "\t'Crash Total Injury Count', \n",
    "\t'Crash Unknown Injury Count']\n",
    "renaming[0].replace('Crash ', '')\n",
    "renaming = {k:k.replace('Crash ', '') for k in renaming}\n",
    "renaming"
   ]
  },
  {
   "cell_type": "code",
   "execution_count": 27,
   "metadata": {},
   "outputs": [
    {
     "data": {
      "text/html": [
       "<div>\n",
       "<style scoped>\n",
       "    .dataframe tbody tr th:only-of-type {\n",
       "        vertical-align: middle;\n",
       "    }\n",
       "\n",
       "    .dataframe tbody tr th {\n",
       "        vertical-align: top;\n",
       "    }\n",
       "\n",
       "    .dataframe thead th {\n",
       "        text-align: right;\n",
       "    }\n",
       "</style>\n",
       "<table border=\"1\" class=\"dataframe\">\n",
       "  <thead>\n",
       "    <tr style=\"text-align: right;\">\n",
       "      <th></th>\n",
       "      <th>$1000 Damage to Any One Person's Property</th>\n",
       "      <th>Active School Zone Flag</th>\n",
       "      <th>Agency</th>\n",
       "      <th>At Intersection Flag</th>\n",
       "      <th>Construction Zone Flag</th>\n",
       "      <th>Construction Zone Workers Present Flag</th>\n",
       "      <th>Death Count</th>\n",
       "      <th>Incapacitating Injury Count</th>\n",
       "      <th>Non-incapacitating Injury Count</th>\n",
       "      <th>Not Injured Count</th>\n",
       "      <th>...</th>\n",
       "      <th>Roadway Alignment</th>\n",
       "      <th>Roadway Part</th>\n",
       "      <th>Roadway Relation</th>\n",
       "      <th>Speed Limit</th>\n",
       "      <th>Street Name</th>\n",
       "      <th>Street Number</th>\n",
       "      <th>Surface Condition</th>\n",
       "      <th>Traffic Control Type</th>\n",
       "      <th>Weather Condition</th>\n",
       "      <th>Person Helmet</th>\n",
       "    </tr>\n",
       "    <tr>\n",
       "      <th>Crash ID</th>\n",
       "      <th></th>\n",
       "      <th></th>\n",
       "      <th></th>\n",
       "      <th></th>\n",
       "      <th></th>\n",
       "      <th></th>\n",
       "      <th></th>\n",
       "      <th></th>\n",
       "      <th></th>\n",
       "      <th></th>\n",
       "      <th></th>\n",
       "      <th></th>\n",
       "      <th></th>\n",
       "      <th></th>\n",
       "      <th></th>\n",
       "      <th></th>\n",
       "      <th></th>\n",
       "      <th></th>\n",
       "      <th></th>\n",
       "      <th></th>\n",
       "      <th></th>\n",
       "    </tr>\n",
       "  </thead>\n",
       "  <tbody>\n",
       "    <tr>\n",
       "      <th>11243623</th>\n",
       "      <td>False</td>\n",
       "      <td>False</td>\n",
       "      <td>Austin Police Department</td>\n",
       "      <td>False</td>\n",
       "      <td>False</td>\n",
       "      <td>No</td>\n",
       "      <td>0</td>\n",
       "      <td>1</td>\n",
       "      <td>0</td>\n",
       "      <td>0</td>\n",
       "      <td>...</td>\n",
       "      <td>Straight, Hillcrest</td>\n",
       "      <td>Main/Proper Lane</td>\n",
       "      <td>On Roadway</td>\n",
       "      <td>45</td>\n",
       "      <td>FM0969</td>\n",
       "      <td>4716</td>\n",
       "      <td>Dry</td>\n",
       "      <td>Marked Lanes</td>\n",
       "      <td>Clear</td>\n",
       "      <td>Worn, Damaged</td>\n",
       "    </tr>\n",
       "    <tr>\n",
       "      <th>12112069</th>\n",
       "      <td>False</td>\n",
       "      <td>False</td>\n",
       "      <td>Austin Police Department</td>\n",
       "      <td>False</td>\n",
       "      <td>False</td>\n",
       "      <td>No</td>\n",
       "      <td>0</td>\n",
       "      <td>0</td>\n",
       "      <td>2</td>\n",
       "      <td>1</td>\n",
       "      <td>...</td>\n",
       "      <td>Straight, Level</td>\n",
       "      <td>Main/Proper Lane</td>\n",
       "      <td>On Roadway</td>\n",
       "      <td>35</td>\n",
       "      <td>E RIVERSIDE DR</td>\n",
       "      <td>200</td>\n",
       "      <td>Dry</td>\n",
       "      <td>Center Stripe/Divider</td>\n",
       "      <td>Clear</td>\n",
       "      <td>Not Worn</td>\n",
       "    </tr>\n",
       "    <tr>\n",
       "      <th>11376123</th>\n",
       "      <td>False</td>\n",
       "      <td>False</td>\n",
       "      <td>Austin Police Department</td>\n",
       "      <td>False</td>\n",
       "      <td>False</td>\n",
       "      <td>No</td>\n",
       "      <td>0</td>\n",
       "      <td>0</td>\n",
       "      <td>1</td>\n",
       "      <td>1</td>\n",
       "      <td>...</td>\n",
       "      <td>Straight, Level</td>\n",
       "      <td>Main/Proper Lane</td>\n",
       "      <td>On Roadway</td>\n",
       "      <td>45</td>\n",
       "      <td>SL0111</td>\n",
       "      <td>1487</td>\n",
       "      <td>Dry</td>\n",
       "      <td>None</td>\n",
       "      <td>Clear</td>\n",
       "      <td>Not Worn</td>\n",
       "    </tr>\n",
       "    <tr>\n",
       "      <th>11318193</th>\n",
       "      <td>False</td>\n",
       "      <td>False</td>\n",
       "      <td>Austin Police Department</td>\n",
       "      <td>False</td>\n",
       "      <td>False</td>\n",
       "      <td>No</td>\n",
       "      <td>0</td>\n",
       "      <td>0</td>\n",
       "      <td>1</td>\n",
       "      <td>2</td>\n",
       "      <td>...</td>\n",
       "      <td>Straight, Grade</td>\n",
       "      <td>Main/Proper Lane</td>\n",
       "      <td>On Roadway</td>\n",
       "      <td>35</td>\n",
       "      <td>W MARTIN LUTHER KING JR BLVD</td>\n",
       "      <td>398</td>\n",
       "      <td>Dry</td>\n",
       "      <td>Marked Lanes</td>\n",
       "      <td>Clear</td>\n",
       "      <td>Worn, Unk Damage</td>\n",
       "    </tr>\n",
       "    <tr>\n",
       "      <th>11286981</th>\n",
       "      <td>False</td>\n",
       "      <td>False</td>\n",
       "      <td>Austin Police Department</td>\n",
       "      <td>True</td>\n",
       "      <td>False</td>\n",
       "      <td>No</td>\n",
       "      <td>0</td>\n",
       "      <td>0</td>\n",
       "      <td>1</td>\n",
       "      <td>0</td>\n",
       "      <td>...</td>\n",
       "      <td>Straight, Level</td>\n",
       "      <td>Main/Proper Lane</td>\n",
       "      <td>On Roadway</td>\n",
       "      <td>30</td>\n",
       "      <td>VICTORY DR</td>\n",
       "      <td>3801</td>\n",
       "      <td>Dry</td>\n",
       "      <td>Stop Sign</td>\n",
       "      <td>Clear</td>\n",
       "      <td>Not Worn</td>\n",
       "    </tr>\n",
       "  </tbody>\n",
       "</table>\n",
       "<p>5 rows × 38 columns</p>\n",
       "</div>"
      ],
      "text/plain": [
       "          $1000 Damage to Any One Person's Property  Active School Zone Flag  \\\n",
       "Crash ID                                                                       \n",
       "11243623                                      False                    False   \n",
       "12112069                                      False                    False   \n",
       "11376123                                      False                    False   \n",
       "11318193                                      False                    False   \n",
       "11286981                                      False                    False   \n",
       "\n",
       "                            Agency  At Intersection Flag  \\\n",
       "Crash ID                                                   \n",
       "11243623  Austin Police Department                 False   \n",
       "12112069  Austin Police Department                 False   \n",
       "11376123  Austin Police Department                 False   \n",
       "11318193  Austin Police Department                 False   \n",
       "11286981  Austin Police Department                  True   \n",
       "\n",
       "          Construction Zone Flag Construction Zone Workers Present Flag  \\\n",
       "Crash ID                                                                  \n",
       "11243623                   False                                     No   \n",
       "12112069                   False                                     No   \n",
       "11376123                   False                                     No   \n",
       "11318193                   False                                     No   \n",
       "11286981                   False                                     No   \n",
       "\n",
       "          Death Count  Incapacitating Injury Count  \\\n",
       "Crash ID                                             \n",
       "11243623            0                            1   \n",
       "12112069            0                            0   \n",
       "11376123            0                            0   \n",
       "11318193            0                            0   \n",
       "11286981            0                            0   \n",
       "\n",
       "          Non-incapacitating Injury Count  Not Injured Count  ...  \\\n",
       "Crash ID                                                      ...   \n",
       "11243623                                0                  0  ...   \n",
       "12112069                                2                  1  ...   \n",
       "11376123                                1                  1  ...   \n",
       "11318193                                1                  2  ...   \n",
       "11286981                                1                  0  ...   \n",
       "\n",
       "            Roadway Alignment      Roadway Part Roadway Relation  Speed Limit  \\\n",
       "Crash ID                                                                        \n",
       "11243623  Straight, Hillcrest  Main/Proper Lane       On Roadway           45   \n",
       "12112069      Straight, Level  Main/Proper Lane       On Roadway           35   \n",
       "11376123      Straight, Level  Main/Proper Lane       On Roadway           45   \n",
       "11318193      Straight, Grade  Main/Proper Lane       On Roadway           35   \n",
       "11286981      Straight, Level  Main/Proper Lane       On Roadway           30   \n",
       "\n",
       "                           Street Name  Street Number Surface Condition  \\\n",
       "Crash ID                                                                  \n",
       "11243623                        FM0969           4716               Dry   \n",
       "12112069                E RIVERSIDE DR            200               Dry   \n",
       "11376123                        SL0111           1487               Dry   \n",
       "11318193  W MARTIN LUTHER KING JR BLVD            398               Dry   \n",
       "11286981                    VICTORY DR           3801               Dry   \n",
       "\n",
       "           Traffic Control Type Weather Condition     Person Helmet  \n",
       "Crash ID                                                             \n",
       "11243623           Marked Lanes             Clear     Worn, Damaged  \n",
       "12112069  Center Stripe/Divider             Clear          Not Worn  \n",
       "11376123                   None             Clear          Not Worn  \n",
       "11318193           Marked Lanes             Clear  Worn, Unk Damage  \n",
       "11286981              Stop Sign             Clear          Not Worn  \n",
       "\n",
       "[5 rows x 38 columns]"
      ]
     },
     "execution_count": 27,
     "metadata": {},
     "output_type": "execute_result"
    }
   ],
   "source": [
    "import pandas as pd\n",
    "import numpy as np\n",
    "url = \"https://raw.githubusercontent.com/taimoon/data-wrangling-school-project/main/Austin%20Bicycle%20Crashes%202010-2017%20revised%20subset.csv\"\n",
    "df=pd.read_csv(url)\n",
    "df.set_index('Crash ID', inplace=True)\n",
    "df.drop(['MercatorX', 'MercatorY'], axis=1, inplace=True)\n",
    "df.rename(columns = renaming,inplace=True)\n",
    "df.head()"
   ]
  },
  {
   "cell_type": "code",
   "execution_count": 28,
   "metadata": {},
   "outputs": [
    {
     "data": {
      "text/plain": [
       "<AxesSubplot:xlabel='Year'>"
      ]
     },
     "execution_count": 28,
     "metadata": {},
     "output_type": "execute_result"
    },
    {
     "data": {
      "image/png": "[encoded data removed]",
      "text/plain": [
       "<Figure size 432x288 with 1 Axes>"
      ]
     },
     "metadata": {
      "needs_background": "light"
     },
     "output_type": "display_data"
    }
   ],
   "source": [
    "li = ['Death Count',\n",
    " 'Incapacitating Injury Count',\n",
    " 'Non-incapacitating Injury Count',\n",
    " 'Not Injured Count',\n",
    " 'Possible Injury Count',\n",
    " 'Total Injury Count',\n",
    " 'Unknown Injury Count']\n",
    "temp = df.groupby(\"Year\").sum()\n",
    "\n",
    "temp[li].plot.line()"
   ]
  },
  {
   "cell_type": "code",
   "execution_count": 33,
   "metadata": {},
   "outputs": [
    {
     "data": {
      "text/html": [
       "\n",
       "    <div class=\"bk-root\">\n",
       "        <a href=\"https://bokeh.org\" target=\"_blank\" class=\"bk-logo bk-logo-small bk-logo-notebook\"></a>\n",
       "        <span id=\"3877\">Loading BokehJS ...</span>\n",
       "    </div>"
      ]
     },
     "metadata": {},
     "output_type": "display_data"
    },
    {
     "data": {
      "application/javascript": "\n(function(root) {\n  function now() {\n    return new Date();\n  }\n\n  const force = true;\n\n  if (typeof root._bokeh_onload_callbacks === \"undefined\" || force === true) {\n    root._bokeh_onload_callbacks = [];\n    root._bokeh_is_loading = undefined;\n  }\n\n  const JS_MIME_TYPE = 'application/javascript';\n  const HTML_MIME_TYPE = 'text/html';\n  const EXEC_MIME_TYPE = 'application/vnd.bokehjs_exec.v0+json';\n  const CLASS_NAME = 'output_bokeh rendered_html';\n\n  /**\n   * Render data to the DOM node\n   */\n  function render(props, node) {\n    const script = document.createElement(\"script\");\n    node.appendChild(script);\n  }\n\n  /**\n   * Handle when an output is cleared or removed\n   */\n  function handleClearOutput(event, handle) {\n    const cell = handle.cell;\n\n    const id = cell.output_area._bokeh_element_id;\n    const server_id = cell.output_area._bokeh_server_id;\n    // Clean up Bokeh references\n    if (id != null && id in Bokeh.index) {\n      Bokeh.index[id].model.document.clear();\n      delete Bokeh.index[id];\n    }\n\n    if (server_id !== undefined) {\n      // Clean up Bokeh references\n      const cmd_clean = \"from bokeh.io.state import curstate; print(curstate().uuid_to_server['\" + server_id + \"'].get_sessions()[0].document.roots[0]._id)\";\n      cell.notebook.kernel.execute(cmd_clean, {\n        iopub: {\n          output: function(msg) {\n            const id = msg.content.text.trim();\n            if (id in Bokeh.index) {\n              Bokeh.index[id].model.document.clear();\n              delete Bokeh.index[id];\n            }\n          }\n        }\n      });\n      // Destroy server and session\n      const cmd_destroy = \"import bokeh.io.notebook as ion; ion.destroy_server('\" + server_id + \"')\";\n      cell.notebook.kernel.execute(cmd_destroy);\n    }\n  }\n\n  /**\n   * Handle when a new output is added\n   */\n  function handleAddOutput(event, handle) {\n    const output_area = handle.output_area;\n    const output = handle.output;\n\n    // limit handleAddOutput to display_data with EXEC_MIME_TYPE content only\n    if ((output.output_type != \"display_data\") || (!Object.prototype.hasOwnProperty.call(output.data, EXEC_MIME_TYPE))) {\n      return\n    }\n\n    const toinsert = output_area.element.find(\".\" + CLASS_NAME.split(' ')[0]);\n\n    if (output.metadata[EXEC_MIME_TYPE][\"id\"] !== undefined) {\n      toinsert[toinsert.length - 1].firstChild.textContent = output.data[JS_MIME_TYPE];\n      // store reference to embed id on output_area\n      output_area._bokeh_element_id = output.metadata[EXEC_MIME_TYPE][\"id\"];\n    }\n    if (output.metadata[EXEC_MIME_TYPE][\"server_id\"] !== undefined) {\n      const bk_div = document.createElement(\"div\");\n      bk_div.innerHTML = output.data[HTML_MIME_TYPE];\n      const script_attrs = bk_div.children[0].attributes;\n      for (let i = 0; i < script_attrs.length; i++) {\n        toinsert[toinsert.length - 1].firstChild.setAttribute(script_attrs[i].name, script_attrs[i].value);\n        toinsert[toinsert.length - 1].firstChild.textContent = bk_div.children[0].textContent\n      }\n      // store reference to server id on output_area\n      output_area._bokeh_server_id = output.metadata[EXEC_MIME_TYPE][\"server_id\"];\n    }\n  }\n\n  function register_renderer(events, OutputArea) {\n\n    function append_mime(data, metadata, element) {\n      // create a DOM node to render to\n      const toinsert = this.create_output_subarea(\n        metadata,\n        CLASS_NAME,\n        EXEC_MIME_TYPE\n      );\n      this.keyboard_manager.register_events(toinsert);\n      // Render to node\n      const props = {data: data, metadata: metadata[EXEC_MIME_TYPE]};\n      render(props, toinsert[toinsert.length - 1]);\n      element.append(toinsert);\n      return toinsert\n    }\n\n    /* Handle when an output is cleared or removed */\n    events.on('clear_output.CodeCell', handleClearOutput);\n    events.on('delete.Cell', handleClearOutput);\n\n    /* Handle when a new output is added */\n    events.on('output_added.OutputArea', handleAddOutput);\n\n    /**\n     * Register the mime type and append_mime function with output_area\n     */\n    OutputArea.prototype.register_mime_type(EXEC_MIME_TYPE, append_mime, {\n      /* Is output safe? */\n      safe: true,\n      /* Index of renderer in `output_area.display_order` */\n      index: 0\n    });\n  }\n\n  // register the mime type if in Jupyter Notebook environment and previously unregistered\n  if (root.Jupyter !== undefined) {\n    const events = require('base/js/events');\n    const OutputArea = require('notebook/js/outputarea').OutputArea;\n\n    if (OutputArea.prototype.mime_types().indexOf(EXEC_MIME_TYPE) == -1) {\n      register_renderer(events, OutputArea);\n    }\n  }\n\n  \n  if (typeof (root._bokeh_timeout) === \"undefined\" || force === true) {\n    root._bokeh_timeout = Date.now() + 5000;\n    root._bokeh_failed_load = false;\n  }\n\n  const NB_LOAD_WARNING = {'data': {'text/html':\n     \"<div style='background-color: #fdd'>\\n\"+\n     \"<p>\\n\"+\n     \"BokehJS does not appear to have successfully loaded. If loading BokehJS from CDN, this \\n\"+\n     \"may be due to a slow or bad network connection. Possible fixes:\\n\"+\n     \"</p>\\n\"+\n     \"<ul>\\n\"+\n     \"<li>re-rerun `output_notebook()` to attempt to load from CDN again, or</li>\\n\"+\n     \"<li>use INLINE resources instead, as so:</li>\\n\"+\n     \"</ul>\\n\"+\n     \"<code>\\n\"+\n     \"from bokeh.resources import INLINE\\n\"+\n     \"output_notebook(resources=INLINE)\\n\"+\n     \"</code>\\n\"+\n     \"</div>\"}};\n\n  function display_loaded() {\n    const el = document.getElementById(\"3877\");\n    if (el != null) {\n      el.textContent = \"BokehJS is loading...\";\n    }\n    if (root.Bokeh !== undefined) {\n      if (el != null) {\n        el.textContent = \"BokehJS \" + root.Bokeh.version + \" successfully loaded.\";\n      }\n    } else if (Date.now() < root._bokeh_timeout) {\n      setTimeout(display_loaded, 100)\n    }\n  }\n\n\n  function run_callbacks() {\n    try {\n      root._bokeh_onload_callbacks.forEach(function(callback) {\n        if (callback != null)\n          callback();\n      });\n    } finally {\n      delete root._bokeh_onload_callbacks\n    }\n    console.debug(\"Bokeh: all callbacks have finished\");\n  }\n\n  function load_libs(css_urls, js_urls, callback) {\n    if (css_urls == null) css_urls = [];\n    if (js_urls == null) js_urls = [];\n\n    root._bokeh_onload_callbacks.push(callback);\n    if (root._bokeh_is_loading > 0) {\n      console.debug(\"Bokeh: BokehJS is being loaded, scheduling callback at\", now());\n      return null;\n    }\n    if (js_urls == null || js_urls.length === 0) {\n      run_callbacks();\n      return null;\n    }\n    console.debug(\"Bokeh: BokehJS not loaded, scheduling load and callback at\", now());\n    root._bokeh_is_loading = css_urls.length + js_urls.length;\n\n    function on_load() {\n      root._bokeh_is_loading--;\n      if (root._bokeh_is_loading === 0) {\n        console.debug(\"Bokeh: all BokehJS libraries/stylesheets loaded\");\n        run_callbacks()\n      }\n    }\n\n    function on_error(url) {\n      console.error(\"failed to load \" + url);\n    }\n\n    for (let i = 0; i < css_urls.length; i++) {\n      const url = css_urls[i];\n      const element = document.createElement(\"link\");\n      element.onload = on_load;\n      element.onerror = on_error.bind(null, url);\n      element.rel = \"stylesheet\";\n      element.type = \"text/css\";\n      element.href = url;\n      console.debug(\"Bokeh: injecting link tag for BokehJS stylesheet: \", url);\n      document.body.appendChild(element);\n    }\n\n    for (let i = 0; i < js_urls.length; i++) {\n      const url = js_urls[i];\n      const element = document.createElement('script');\n      element.onload = on_load;\n      element.onerror = on_error.bind(null, url);\n      element.async = false;\n      element.src = url;\n      console.debug(\"Bokeh: injecting script tag for BokehJS library: \", url);\n      document.head.appendChild(element);\n    }\n  };\n\n  function inject_raw_css(css) {\n    const element = document.createElement(\"style\");\n    element.appendChild(document.createTextNode(css));\n    document.body.appendChild(element);\n  }\n\n  \n  const js_urls = [\"https://cdn.bokeh.org/bokeh/release/bokeh-2.4.2.min.js\", \"https://cdn.bokeh.org/bokeh/release/bokeh-gl-2.4.2.min.js\", \"https://cdn.bokeh.org/bokeh/release/bokeh-widgets-2.4.2.min.js\", \"https://cdn.bokeh.org/bokeh/release/bokeh-tables-2.4.2.min.js\", \"https://cdn.bokeh.org/bokeh/release/bokeh-mathjax-2.4.2.min.js\"];\n  const css_urls = [];\n  \n\n  const inline_js = [\n    function(Bokeh) {\n      Bokeh.set_log_level(\"info\");\n    },\n    function(Bokeh) {\n    \n    \n    }\n  ];\n\n  function run_inline_js() {\n    \n    if (root.Bokeh !== undefined || force === true) {\n      \n    for (let i = 0; i < inline_js.length; i++) {\n      inline_js[i].call(root, root.Bokeh);\n    }\n    if (force === true) {\n        display_loaded();\n      }} else if (Date.now() < root._bokeh_timeout) {\n      setTimeout(run_inline_js, 100);\n    } else if (!root._bokeh_failed_load) {\n      console.log(\"Bokeh: BokehJS failed to load within specified timeout.\");\n      root._bokeh_failed_load = true;\n    } else if (force !== true) {\n      const cell = $(document.getElementById(\"3877\")).parents('.cell').data().cell;\n      cell.output_area.append_execute_result(NB_LOAD_WARNING)\n    }\n\n  }\n\n  if (root._bokeh_is_loading === 0) {\n    console.debug(\"Bokeh: BokehJS loaded, going straight to plotting\");\n    run_inline_js();\n  } else {\n    load_libs(css_urls, js_urls, function() {\n      console.debug(\"Bokeh: BokehJS plotting callback run at\", now());\n      run_inline_js();\n    });\n  }\n}(window));",
      "application/vnd.bokehjs_load.v0+json": ""
     },
     "metadata": {},
     "output_type": "display_data"
    }
   ],
   "source": [
    "from bokeh.plotting import figure\n",
    "from bokeh.palettes import Spectral10\n",
    "from bokeh.tile_providers import get_provider, WIKIMEDIA\n",
    "from bokeh.io import output_notebook, show, curdoc\n",
    "from bokeh.models import ColumnDataSource, RangeSlider\n",
    "from bokeh.layouts import column, row\n",
    "output_notebook()"
   ]
  },
  {
   "cell_type": "code",
   "execution_count": 35,
   "metadata": {},
   "outputs": [
    {
     "data": {
      "text/html": [
       "\n",
       "\n",
       "\n",
       "\n",
       "\n",
       "\n",
       "  <div class=\"bk-root\" id=\"2e95ebea-a406-45c4-82f9-e68dff4bf327\" data-root-id=\"4363\"></div>\n"
      ]
     },
     "metadata": {},
     "output_type": "display_data"
    },
    {
     "data": {
      "application/javascript": "(function(root) {\n  function embed_document(root) {\n    \n  const docs_json = {\"fad02514-f4cc-4b3c-bb3f-2facfd28f7dd\":{\"defs\":[],\"roots\":{\"references\":[{\"attributes\":{\"below\":[{\"id\":\"4374\"}],\"center\":[{\"id\":\"4377\"},{\"id\":\"4381\"},{\"id\":\"4412\"}],\"height\":700,\"left\":[{\"id\":\"4378\"}],\"renderers\":[{\"id\":\"4400\"},{\"id\":\"4418\"},{\"id\":\"4437\"},{\"id\":\"4458\"},{\"id\":\"4481\"},{\"id\":\"4506\"},{\"id\":\"4533\"}],\"title\":{\"id\":\"4364\"},\"toolbar\":{\"id\":\"4389\"},\"width\":900,\"x_range\":{\"id\":\"4366\"},\"x_scale\":{\"id\":\"4370\"},\"y_range\":{\"id\":\"4368\"},\"y_scale\":{\"id\":\"4372\"}},\"id\":\"4363\",\"subtype\":\"Figure\",\"type\":\"Plot\"},{\"attributes\":{\"label\":{\"value\":\"Death Count\"},\"renderers\":[{\"id\":\"4400\"}]},\"id\":\"4413\",\"type\":\"LegendItem\"},{\"attributes\":{\"source\":{\"id\":\"4396\"}},\"id\":\"4401\",\"type\":\"CDSView\"},{\"attributes\":{\"line_alpha\":0.1,\"line_color\":\"#5e4fa2\",\"line_width\":3,\"x\":{\"field\":\"x\"},\"y\":{\"field\":\"y\"}},\"id\":\"4398\",\"type\":\"Line\"},{\"attributes\":{\"axis_label\":\"year\",\"coordinates\":null,\"formatter\":{\"id\":\"4407\"},\"group\":null,\"major_label_policy\":{\"id\":\"4408\"},\"ticker\":{\"id\":\"4375\"}},\"id\":\"4374\",\"type\":\"LinearAxis\"},{\"attributes\":{\"data\":{\"x\":[2010,2011,2012,2013,2015,2016,2017],\"y\":[26,47,25,28,24,32,32]},\"selected\":{\"id\":\"4430\"},\"selection_policy\":{\"id\":\"4429\"}},\"id\":\"4414\",\"type\":\"ColumnDataSource\"},{\"attributes\":{},\"id\":\"4383\",\"type\":\"WheelZoomTool\"},{\"attributes\":{\"line_color\":\"#3288bd\",\"line_width\":3,\"x\":{\"field\":\"x\"},\"y\":{\"field\":\"y\"}},\"id\":\"4415\",\"type\":\"Line\"},{\"attributes\":{},\"id\":\"4372\",\"type\":\"LinearScale\"},{\"attributes\":{},\"id\":\"4375\",\"type\":\"BasicTicker\"},{\"attributes\":{\"end\":2017,\"start\":2010},\"id\":\"4366\",\"type\":\"Range1d\"},{\"attributes\":{},\"id\":\"4379\",\"type\":\"BasicTicker\"},{\"attributes\":{\"label\":{\"value\":\"Incapacitating Injury Count\"},\"renderers\":[{\"id\":\"4418\"}]},\"id\":\"4432\",\"type\":\"LegendItem\"},{\"attributes\":{},\"id\":\"4409\",\"type\":\"UnionRenderers\"},{\"attributes\":{\"tools\":[{\"id\":\"4382\"},{\"id\":\"4383\"},{\"id\":\"4384\"},{\"id\":\"4385\"},{\"id\":\"4386\"},{\"id\":\"4387\"}]},\"id\":\"4389\",\"type\":\"Toolbar\"},{\"attributes\":{\"line_alpha\":0.2,\"line_color\":\"#3288bd\",\"line_width\":3,\"x\":{\"field\":\"x\"},\"y\":{\"field\":\"y\"}},\"id\":\"4417\",\"type\":\"Line\"},{\"attributes\":{\"coordinates\":null,\"data_source\":{\"id\":\"4414\"},\"glyph\":{\"id\":\"4415\"},\"group\":null,\"hover_glyph\":null,\"muted_glyph\":{\"id\":\"4417\"},\"nonselection_glyph\":{\"id\":\"4416\"},\"view\":{\"id\":\"4419\"}},\"id\":\"4418\",\"type\":\"GlyphRenderer\"},{\"attributes\":{\"source\":{\"id\":\"4414\"}},\"id\":\"4419\",\"type\":\"CDSView\"},{\"attributes\":{\"data\":{\"x\":[2010,2011,2012,2013,2015,2016,2017],\"y\":[143,193,202,183,133,140,158]},\"selected\":{\"id\":\"4451\"},\"selection_policy\":{\"id\":\"4450\"}},\"id\":\"4433\",\"type\":\"ColumnDataSource\"},{\"attributes\":{\"line_alpha\":0.1,\"line_color\":\"#3288bd\",\"line_width\":3,\"x\":{\"field\":\"x\"},\"y\":{\"field\":\"y\"}},\"id\":\"4416\",\"type\":\"Line\"},{\"attributes\":{\"bottom_units\":\"screen\",\"coordinates\":null,\"fill_alpha\":0.5,\"fill_color\":\"lightgrey\",\"group\":null,\"left_units\":\"screen\",\"level\":\"overlay\",\"line_alpha\":1.0,\"line_color\":\"black\",\"line_dash\":[4,4],\"line_width\":2,\"right_units\":\"screen\",\"syncable\":false,\"top_units\":\"screen\"},\"id\":\"4388\",\"type\":\"BoxAnnotation\"},{\"attributes\":{\"line_color\":\"#66c2a5\",\"line_width\":3,\"x\":{\"field\":\"x\"},\"y\":{\"field\":\"y\"}},\"id\":\"4434\",\"type\":\"Line\"},{\"attributes\":{},\"id\":\"4429\",\"type\":\"UnionRenderers\"},{\"attributes\":{\"line_alpha\":0.2,\"line_color\":\"#fee08b\",\"line_width\":3,\"x\":{\"field\":\"x\"},\"y\":{\"field\":\"y\"}},\"id\":\"4505\",\"type\":\"Line\"},{\"attributes\":{},\"id\":\"4386\",\"type\":\"ResetTool\"},{\"attributes\":{\"coordinates\":null,\"data_source\":{\"id\":\"4502\"},\"glyph\":{\"id\":\"4503\"},\"group\":null,\"hover_glyph\":null,\"muted_glyph\":{\"id\":\"4505\"},\"nonselection_glyph\":{\"id\":\"4504\"},\"view\":{\"id\":\"4507\"}},\"id\":\"4506\",\"type\":\"GlyphRenderer\"},{\"attributes\":{},\"id\":\"4385\",\"type\":\"SaveTool\"},{\"attributes\":{\"label\":{\"value\":\"Total Injury Count\"},\"renderers\":[{\"id\":\"4506\"}]},\"id\":\"4528\",\"type\":\"LegendItem\"},{\"attributes\":{},\"id\":\"4430\",\"type\":\"Selection\"},{\"attributes\":{\"source\":{\"id\":\"4502\"}},\"id\":\"4507\",\"type\":\"CDSView\"},{\"attributes\":{\"line_alpha\":0.1,\"line_color\":\"#fee08b\",\"line_width\":3,\"x\":{\"field\":\"x\"},\"y\":{\"field\":\"y\"}},\"id\":\"4504\",\"type\":\"Line\"},{\"attributes\":{},\"id\":\"4387\",\"type\":\"HelpTool\"},{\"attributes\":{\"data\":{\"x\":[2010,2011,2012,2013,2015,2016,2017],\"y\":[36,50,49,50,40,42,42]},\"selected\":{\"id\":\"4555\"},\"selection_policy\":{\"id\":\"4554\"}},\"id\":\"4529\",\"type\":\"ColumnDataSource\"},{\"attributes\":{},\"id\":\"4408\",\"type\":\"AllLabels\"},{\"attributes\":{\"coordinates\":null,\"data_source\":{\"id\":\"4396\"},\"glyph\":{\"id\":\"4397\"},\"group\":null,\"hover_glyph\":null,\"muted_glyph\":{\"id\":\"4399\"},\"nonselection_glyph\":{\"id\":\"4398\"},\"view\":{\"id\":\"4401\"}},\"id\":\"4400\",\"type\":\"GlyphRenderer\"},{\"attributes\":{},\"id\":\"4525\",\"type\":\"UnionRenderers\"},{\"attributes\":{},\"id\":\"4407\",\"type\":\"BasicTickFormatter\"},{\"attributes\":{},\"id\":\"4526\",\"type\":\"Selection\"},{\"attributes\":{},\"id\":\"4405\",\"type\":\"AllLabels\"},{\"attributes\":{},\"id\":\"4404\",\"type\":\"BasicTickFormatter\"},{\"attributes\":{\"label\":{\"value\":\"Non-incapacitating Injury Count\"},\"renderers\":[{\"id\":\"4437\"}]},\"id\":\"4453\",\"type\":\"LegendItem\"},{\"attributes\":{\"line_alpha\":0.2,\"line_color\":\"#66c2a5\",\"line_width\":3,\"x\":{\"field\":\"x\"},\"y\":{\"field\":\"y\"}},\"id\":\"4436\",\"type\":\"Line\"},{\"attributes\":{\"coordinates\":null,\"data_source\":{\"id\":\"4433\"},\"glyph\":{\"id\":\"4434\"},\"group\":null,\"hover_glyph\":null,\"muted_glyph\":{\"id\":\"4436\"},\"nonselection_glyph\":{\"id\":\"4435\"},\"view\":{\"id\":\"4438\"}},\"id\":\"4437\",\"type\":\"GlyphRenderer\"},{\"attributes\":{},\"id\":\"4370\",\"type\":\"LinearScale\"},{\"attributes\":{\"line_color\":\"#fdae61\",\"line_width\":3,\"x\":{\"field\":\"x\"},\"y\":{\"field\":\"y\"}},\"id\":\"4530\",\"type\":\"Line\"},{\"attributes\":{\"source\":{\"id\":\"4433\"}},\"id\":\"4438\",\"type\":\"CDSView\"},{\"attributes\":{\"data\":{\"x\":[2010,2011,2012,2013,2015,2016,2017],\"y\":[252,390,381,314,296,285,297]},\"selected\":{\"id\":\"4474\"},\"selection_policy\":{\"id\":\"4473\"}},\"id\":\"4454\",\"type\":\"ColumnDataSource\"},{\"attributes\":{\"line_alpha\":0.1,\"line_color\":\"#66c2a5\",\"line_width\":3,\"x\":{\"field\":\"x\"},\"y\":{\"field\":\"y\"}},\"id\":\"4435\",\"type\":\"Line\"},{\"attributes\":{\"line_color\":\"#abdda4\",\"line_width\":3,\"x\":{\"field\":\"x\"},\"y\":{\"field\":\"y\"}},\"id\":\"4455\",\"type\":\"Line\"},{\"attributes\":{\"line_alpha\":0.2,\"line_color\":\"#fdae61\",\"line_width\":3,\"x\":{\"field\":\"x\"},\"y\":{\"field\":\"y\"}},\"id\":\"4532\",\"type\":\"Line\"},{\"attributes\":{},\"id\":\"4450\",\"type\":\"UnionRenderers\"},{\"attributes\":{\"coordinates\":null,\"data_source\":{\"id\":\"4529\"},\"glyph\":{\"id\":\"4530\"},\"group\":null,\"hover_glyph\":null,\"muted_glyph\":{\"id\":\"4532\"},\"nonselection_glyph\":{\"id\":\"4531\"},\"view\":{\"id\":\"4534\"}},\"id\":\"4533\",\"type\":\"GlyphRenderer\"},{\"attributes\":{\"line_alpha\":0.2,\"line_color\":\"#5e4fa2\",\"line_width\":3,\"x\":{\"field\":\"x\"},\"y\":{\"field\":\"y\"}},\"id\":\"4399\",\"type\":\"Line\"},{\"attributes\":{\"label\":{\"value\":\"Unknown Injury Count\"},\"renderers\":[{\"id\":\"4533\"}]},\"id\":\"4557\",\"type\":\"LegendItem\"},{\"attributes\":{},\"id\":\"4451\",\"type\":\"Selection\"},{\"attributes\":{\"source\":{\"id\":\"4529\"}},\"id\":\"4534\",\"type\":\"CDSView\"},{\"attributes\":{\"line_alpha\":0.1,\"line_color\":\"#fdae61\",\"line_width\":3,\"x\":{\"field\":\"x\"},\"y\":{\"field\":\"y\"}},\"id\":\"4531\",\"type\":\"Line\"},{\"attributes\":{},\"id\":\"4554\",\"type\":\"UnionRenderers\"},{\"attributes\":{},\"id\":\"4555\",\"type\":\"Selection\"},{\"attributes\":{\"click_policy\":\"mute\",\"coordinates\":null,\"group\":null,\"items\":[{\"id\":\"4413\"},{\"id\":\"4432\"},{\"id\":\"4453\"},{\"id\":\"4476\"},{\"id\":\"4501\"},{\"id\":\"4528\"},{\"id\":\"4557\"}]},\"id\":\"4412\",\"type\":\"Legend\"},{\"attributes\":{\"overlay\":{\"id\":\"4388\"}},\"id\":\"4384\",\"type\":\"BoxZoomTool\"},{\"attributes\":{},\"id\":\"4382\",\"type\":\"PanTool\"},{\"attributes\":{\"data\":{\"x\":[2010,2011,2012,2013,2015,2016,2017],\"y\":[2,2,3,1,2,1,4]},\"selected\":{\"id\":\"4410\"},\"selection_policy\":{\"id\":\"4409\"}},\"id\":\"4396\",\"type\":\"ColumnDataSource\"},{\"attributes\":{\"label\":{\"value\":\"Not Injured Count\"},\"renderers\":[{\"id\":\"4458\"}]},\"id\":\"4476\",\"type\":\"LegendItem\"},{\"attributes\":{\"line_alpha\":0.2,\"line_color\":\"#abdda4\",\"line_width\":3,\"x\":{\"field\":\"x\"},\"y\":{\"field\":\"y\"}},\"id\":\"4457\",\"type\":\"Line\"},{\"attributes\":{\"coordinates\":null,\"data_source\":{\"id\":\"4454\"},\"glyph\":{\"id\":\"4455\"},\"group\":null,\"hover_glyph\":null,\"muted_glyph\":{\"id\":\"4457\"},\"nonselection_glyph\":{\"id\":\"4456\"},\"view\":{\"id\":\"4459\"}},\"id\":\"4458\",\"type\":\"GlyphRenderer\"},{\"attributes\":{\"source\":{\"id\":\"4454\"}},\"id\":\"4459\",\"type\":\"CDSView\"},{\"attributes\":{\"data\":{\"x\":[2010,2011,2012,2013,2015,2016,2017],\"y\":[46,87,59,68,68,74,65]},\"selected\":{\"id\":\"4499\"},\"selection_policy\":{\"id\":\"4498\"}},\"id\":\"4477\",\"type\":\"ColumnDataSource\"},{\"attributes\":{\"line_alpha\":0.1,\"line_color\":\"#abdda4\",\"line_width\":3,\"x\":{\"field\":\"x\"},\"y\":{\"field\":\"y\"}},\"id\":\"4456\",\"type\":\"Line\"},{\"attributes\":{\"line_color\":\"#e6f598\",\"line_width\":3,\"x\":{\"field\":\"x\"},\"y\":{\"field\":\"y\"}},\"id\":\"4478\",\"type\":\"Line\"},{\"attributes\":{\"axis_label\":\"total count\",\"coordinates\":null,\"formatter\":{\"id\":\"4404\"},\"group\":null,\"major_label_policy\":{\"id\":\"4405\"},\"ticker\":{\"id\":\"4379\"}},\"id\":\"4378\",\"type\":\"LinearAxis\"},{\"attributes\":{\"axis\":{\"id\":\"4378\"},\"coordinates\":null,\"dimension\":1,\"group\":null,\"ticker\":null},\"id\":\"4381\",\"type\":\"Grid\"},{\"attributes\":{},\"id\":\"4473\",\"type\":\"UnionRenderers\"},{\"attributes\":{},\"id\":\"4474\",\"type\":\"Selection\"},{\"attributes\":{\"axis\":{\"id\":\"4374\"},\"coordinates\":null,\"group\":null,\"ticker\":null},\"id\":\"4377\",\"type\":\"Grid\"},{\"attributes\":{\"coordinates\":null,\"group\":null,\"text\":\"Austin Bicycle Crashes\"},\"id\":\"4364\",\"type\":\"Title\"},{\"attributes\":{\"end\":450},\"id\":\"4368\",\"type\":\"Range1d\"},{\"attributes\":{},\"id\":\"4410\",\"type\":\"Selection\"},{\"attributes\":{\"label\":{\"value\":\"Possible Injury Count\"},\"renderers\":[{\"id\":\"4481\"}]},\"id\":\"4501\",\"type\":\"LegendItem\"},{\"attributes\":{\"line_alpha\":0.2,\"line_color\":\"#e6f598\",\"line_width\":3,\"x\":{\"field\":\"x\"},\"y\":{\"field\":\"y\"}},\"id\":\"4480\",\"type\":\"Line\"},{\"attributes\":{\"coordinates\":null,\"data_source\":{\"id\":\"4477\"},\"glyph\":{\"id\":\"4478\"},\"group\":null,\"hover_glyph\":null,\"muted_glyph\":{\"id\":\"4480\"},\"nonselection_glyph\":{\"id\":\"4479\"},\"view\":{\"id\":\"4482\"}},\"id\":\"4481\",\"type\":\"GlyphRenderer\"},{\"attributes\":{\"source\":{\"id\":\"4477\"}},\"id\":\"4482\",\"type\":\"CDSView\"},{\"attributes\":{\"data\":{\"x\":[2010,2011,2012,2013,2015,2016,2017],\"y\":[215,327,286,279,225,246,255]},\"selected\":{\"id\":\"4526\"},\"selection_policy\":{\"id\":\"4525\"}},\"id\":\"4502\",\"type\":\"ColumnDataSource\"},{\"attributes\":{\"line_alpha\":0.1,\"line_color\":\"#e6f598\",\"line_width\":3,\"x\":{\"field\":\"x\"},\"y\":{\"field\":\"y\"}},\"id\":\"4479\",\"type\":\"Line\"},{\"attributes\":{\"line_color\":\"#fee08b\",\"line_width\":3,\"x\":{\"field\":\"x\"},\"y\":{\"field\":\"y\"}},\"id\":\"4503\",\"type\":\"Line\"},{\"attributes\":{},\"id\":\"4498\",\"type\":\"UnionRenderers\"},{\"attributes\":{},\"id\":\"4499\",\"type\":\"Selection\"},{\"attributes\":{\"line_color\":\"#5e4fa2\",\"line_width\":3,\"x\":{\"field\":\"x\"},\"y\":{\"field\":\"y\"}},\"id\":\"4397\",\"type\":\"Line\"}],\"root_ids\":[\"4363\"]},\"title\":\"Bokeh Application\",\"version\":\"2.4.2\"}};\n  const render_items = [{\"docid\":\"fad02514-f4cc-4b3c-bb3f-2facfd28f7dd\",\"root_ids\":[\"4363\"],\"roots\":{\"4363\":\"2e95ebea-a406-45c4-82f9-e68dff4bf327\"}}];\n  root.Bokeh.embed.embed_items_notebook(docs_json, render_items);\n\n  }\n  if (root.Bokeh !== undefined) {\n    embed_document(root);\n  } else {\n    let attempts = 0;\n    const timer = setInterval(function(root) {\n      if (root.Bokeh !== undefined) {\n        clearInterval(timer);\n        embed_document(root);\n      } else {\n        attempts++;\n        if (attempts > 100) {\n          clearInterval(timer);\n          console.log(\"Bokeh: ERROR: Unable to run BokehJS code because BokehJS library is missing\");\n        }\n      }\n    }, 10, root)\n  }\n})(window);",
      "application/vnd.bokehjs_exec.v0+json": ""
     },
     "metadata": {
      "application/vnd.bokehjs_exec.v0+json": {
       "id": "4363"
      }
     },
     "output_type": "display_data"
    }
   ],
   "source": [
    "fig = figure(plot_width=900, plot_height=700,\n",
    "           y_range=(0, 450), x_range=(2010, 2017),\n",
    "           x_axis_label = 'year', y_axis_label = 'total count',\n",
    "           title=\"Austin Bicycle Crashes\")\n",
    "temp = df.groupby(\"Year\").sum()\n",
    "for i, color in zip(li, Spectral10):\n",
    "    fig.line(y = temp[i], x = temp.index, legend_label = i, color=color, line_width=3)\n",
    "\n",
    "fig.legend.location = \"top_right\"\n",
    "fig.legend.click_policy=\"mute\"\n",
    "\n",
    "show(fig)"
   ]
  }
 ],
 "metadata": {
  "interpreter": {
   "hash": "2324a66782fee6ab9f0bdb3c9e79ee636ed86487484f245c4444858429ce7730"
  },
  "kernelspec": {
   "display_name": "Python 3.10.2 64-bit",
   "language": "python",
   "name": "python3"
  },
  "language_info": {
   "codemirror_mode": {
    "name": "ipython",
    "version": 3
   },
   "file_extension": ".py",
   "mimetype": "text/x-python",
   "name": "python",
   "nbconvert_exporter": "python",
   "pygments_lexer": "ipython3",
   "version": "3.10.2"
  },
  "orig_nbformat": 4
 },
 "nbformat": 4,
 "nbformat_minor": 2
}
